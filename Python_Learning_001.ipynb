{
  "nbformat": 4,
  "nbformat_minor": 0,
  "metadata": {
    "colab": {
      "name": "Python Learning 001",
      "provenance": [],
      "collapsed_sections": [],
      "authorship_tag": "ABX9TyMltB9sARFC6D1Ve+tcyGvc",
      "include_colab_link": true
    },
    "kernelspec": {
      "name": "python3",
      "display_name": "Python 3"
    },
    "language_info": {
      "name": "python"
    }
  },
  "cells": [
    {
      "cell_type": "markdown",
      "metadata": {
        "id": "view-in-github",
        "colab_type": "text"
      },
      "source": [
        "<a href=\"https://colab.research.google.com/github/mgarrett1955/ATLS-2200-2/blob/main/Python_Learning_001.ipynb\" target=\"_parent\"><img src=\"https://colab.research.google.com/assets/colab-badge.svg\" alt=\"Open In Colab\"/></a>"
      ]
    },
    {
      "cell_type": "code",
      "execution_count": 8,
      "metadata": {
        "id": "xmza-FFQEfiS"
      },
      "outputs": [],
      "source": [
        "a = 1 #an integer"
      ]
    },
    {
      "cell_type": "code",
      "source": [
        "a1 = a #a copy of an exsting integer"
      ],
      "metadata": {
        "id": "tuXRd3SFWK6f"
      },
      "execution_count": 37,
      "outputs": []
    },
    {
      "cell_type": "code",
      "source": [
        "b = 1. # a floting point number (fractional)"
      ],
      "metadata": {
        "id": "iDckeLdmEs5I"
      },
      "execution_count": 9,
      "outputs": []
    },
    {
      "cell_type": "code",
      "source": [
        "s = 'this is a string' #a list of number that represent characters, a string"
      ],
      "metadata": {
        "id": "noY907IjUOl5"
      },
      "execution_count": 10,
      "outputs": []
    },
    {
      "cell_type": "code",
      "source": [
        "c = (123,2.,'This is a string, inside of a tuple') #a tuple, a container of values that can not be changed (imutable)"
      ],
      "metadata": {
        "id": "6uSyOatDEt8r"
      },
      "execution_count": 11,
      "outputs": []
    },
    {
      "cell_type": "code",
      "source": [
        "d = [1,2,3,4] #a list of objects, in this case a list of integers"
      ],
      "metadata": {
        "id": "gVnZr3orEyyA"
      },
      "execution_count": 12,
      "outputs": []
    },
    {
      "cell_type": "code",
      "source": [
        "e = [1,2,'string inside of a list'] # list of objects that contains different types (can be changed, mutable)"
      ],
      "metadata": {
        "id": "4SE_-2MWE1qU"
      },
      "execution_count": 17,
      "outputs": []
    },
    {
      "cell_type": "code",
      "source": [
        "f = { 'name' : 'Nathan', 2 : 300, } #a dictionary of key -> value pairs, can be changed"
      ],
      "metadata": {
        "id": "HjKed2E8E4dJ"
      },
      "execution_count": 23,
      "outputs": []
    },
    {
      "cell_type": "code",
      "source": [
        "def add(x,y): # a very simple function that takes two objects tries to add them and returns the sum\n",
        "  return x + y"
      ],
      "metadata": {
        "id": "x-RaLXpuUV23"
      },
      "execution_count": 31,
      "outputs": []
    },
    {
      "cell_type": "code",
      "source": [
        "result = add(100,200) #calling the function with 2 integers, call the function and assign the result to a variable named result"
      ],
      "metadata": {
        "id": "4m52siBWU3oc"
      },
      "execution_count": 46,
      "outputs": []
    },
    {
      "cell_type": "code",
      "source": [
        "result #jupyter  will sho the current value of this variable"
      ],
      "metadata": {
        "colab": {
          "base_uri": "https://localhost:8080/"
        },
        "id": "7zwEkHdKZY4W",
        "outputId": "40025f4c-d781-4746-a5a5-c4f27636e3de"
      },
      "execution_count": 49,
      "outputs": [
        {
          "output_type": "execute_result",
          "data": {
            "text/plain": [
              "300"
            ]
          },
          "metadata": {},
          "execution_count": 49
        }
      ]
    },
    {
      "cell_type": "code",
      "source": [
        ""
      ],
      "metadata": {
        "id": "phZmDjecZZj7"
      },
      "execution_count": null,
      "outputs": []
    }
  ]
}